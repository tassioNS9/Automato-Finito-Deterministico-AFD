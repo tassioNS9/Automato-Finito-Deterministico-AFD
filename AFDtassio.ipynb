{
 "cells": [
  {
   "cell_type": "markdown",
   "id": "8dc49acb-55b9-4897-bb8e-bc328e57c02d",
   "metadata": {},
   "source": [
    "O código ilustrado é uma representação de um Autômato Finito Determinístico que em outras palavras aceita ou rejeita cadeias de símbolos gerando um único ramo de computação para cada cadeia de entrada, sendo este código na linguagem de programação Python.Através do código propriamente referido, inicialmente foram declaradas as variáveis dos estados, símbolo alfabeto e a quantidade de transições. "
   ]
  },
  {
   "cell_type": "code",
   "execution_count": null,
   "id": "07089318-9a9f-4b75-8d79-6886d6677d4c",
   "metadata": {},
   "outputs": [],
   "source": [
    "estados = input().split(\" \")\n",
    "simbolo_alfabeto = input().split(\" \")\n",
    "qtd_transicoes = int(input())"
   ]
  },
  {
   "cell_type": "markdown",
   "id": "f56d0be8-8d01-404a-a569-37e175c8c503",
   "metadata": {},
   "source": [
    "Temos uma hash table que nesse caso seria trans_afd que é a tabela de dispersão que será feita o armazenamento das supostas transições. Depois declarado o laço de repetição que fará o preenchimento para cada estado, continuamente outro laço que adiciona as transições para cada estado, entretanto estas são inseridas pelo usuário do programa uma seguida da outra."
   ]
  },
  {
   "cell_type": "code",
   "execution_count": null,
   "id": "6baaa4c7-c4fa-4687-9281-bdc246035c74",
   "metadata": {},
   "outputs": [],
   "source": [
    "trans_afd = {}\n",
    "\n",
    "for estado in estados:\n",
    "    trans_afd[estado] = {}"
   ]
  },
  {
   "cell_type": "markdown",
   "id": "de5fab97-4c13-4742-8317-d4a9994ff926",
   "metadata": {},
   "source": [
    "Logo abaixo, estão as variáveis de estado_inicial, estados_finais e palavras. Então temos um bloco de código responsável por reconhecer ou não palavras após completar o recurso AFD, com isso quem passara pela a análise é a variável palavra, no laço de repetição, no primeiro laço for é percorrido palavra a palavra, além de que a variável estado_atual, recebe o valor da variável estado_inicial e a variável estado_de_error recebe o valor 0 indicando que o AFD não se encontra em estado de erro."
   ]
  },
  {
   "cell_type": "code",
   "execution_count": null,
   "id": "65f7758c-b2d7-4f96-9707-3ff1731ff9c1",
   "metadata": {},
   "outputs": [],
   "source": [
    "for i in range(0, qtd_transicoes):\n",
    "    inicio, caractere, final = input().split(\" \")\n",
    "    if caractere not in trans_afd[inicio]:\n",
    "      trans_afd[inicio][caractere] = final\n",
    "\n",
    "estado_inicial = input()\n",
    "estados_finais = input().split(\" \")\n",
    "palavras = input().split(\" \")"
   ]
  },
  {
   "cell_type": "markdown",
   "id": "f9006783-bc9b-4e3e-885d-b08dd1911bba",
   "metadata": {},
   "source": [
    "Com tudo, ainda esse laço de repetição for um novo for é declarado com a finalidade de percorrer cada um dos caracteres da string (palavra) que está sendo analisada e este comportamento pode resultar numa complexidade máxima de O(n) onde n é o tamanho de cada palavra. Por fim caso a transição exista o novo estado atual sera definido, caso não exista o AFD irar executar a transição para o estado de erro, em seguida é feita a verificação se o estado atual é de erro ou não , retornando “N” caso seja verdade e “S” caso não."
   ]
  },
  {
   "cell_type": "code",
   "execution_count": 3,
   "id": "8d7772c1-8c1c-4ee8-8e6c-a8aaef948bf2",
   "metadata": {},
   "outputs": [],
   "source": [
    "for palavra in palavras:\n",
    "    estado_atual = estado_inicial\n",
    "    estado_de_error = 0\n",
    "    for char in palavra:\n",
    "        try:\n",
    "            estado_atual = trans_afd[estado_atual][char]\n",
    "        except KeyError:\n",
    "            estado_de_error = 1\n",
    "            break\n",
    "    if(estado_de_error == 1 or estado_atual not in estados_finais):\n",
    "        print('N')\n",
    "    else:\n",
    "        print('S')"
   ]
  }
 ],
 "metadata": {
  "kernelspec": {
   "display_name": "Python 3 (ipykernel)",
   "language": "python",
   "name": "python3"
  },
  "language_info": {
   "codemirror_mode": {
    "name": "ipython",
    "version": 3
   },
   "file_extension": ".py",
   "mimetype": "text/x-python",
   "name": "python",
   "nbconvert_exporter": "python",
   "pygments_lexer": "ipython3",
   "version": "3.9.7"
  }
 },
 "nbformat": 4,
 "nbformat_minor": 5
}
